{
 "cells": [
  {
   "cell_type": "markdown",
   "metadata": {},
   "source": [
    "### OpenSearch - Full Search"
   ]
  },
  {
   "cell_type": "markdown",
   "metadata": {},
   "source": [
    "I have enhanced LangChain's OpenSearch integration by implementing full-text search capabilities within the OpenSearchVectorSearch class. This addition complements the existing vector search functionality, creating a more versatile and powerful search solution. By incorporating full-text search, users can now leverage both traditional keyword-based matching and semantic similarity within the same framework. This implementation allows for more precise and flexible querying, enabling users to find relevant documents based on exact text matches as well as conceptual similarity. The enhanced OpenSearchVectorSearch class seamlessly integrates this full-text search capability with the existing vector search features, providing a comprehensive search experience without requiring users to leave the LangChain ecosystem. This improvement significantly expands the search capabilities available to developers using LangChain, allowing for more nuanced and effective information retrieval across a wide range of use cases."
   ]
  },
  {
   "cell_type": "code",
   "execution_count": 1,
   "metadata": {},
   "outputs": [],
   "source": [
    "from opensearch_vector_search import OpenSearchVectorSearch \n",
    "from langchain_openai import OpenAIEmbeddings\n",
    "import os"
   ]
  },
  {
   "cell_type": "markdown",
   "metadata": {},
   "source": [
    "Loading all environment variables"
   ]
  },
  {
   "cell_type": "code",
   "execution_count": 2,
   "metadata": {},
   "outputs": [
    {
     "data": {
      "text/plain": [
       "True"
      ]
     },
     "execution_count": 2,
     "metadata": {},
     "output_type": "execute_result"
    }
   ],
   "source": [
    "from dotenv import load_dotenv\n",
    "\n",
    "load_dotenv()"
   ]
  },
  {
   "cell_type": "markdown",
   "metadata": {},
   "source": [
    "#### Embedding model "
   ]
  },
  {
   "cell_type": "code",
   "execution_count": 5,
   "metadata": {},
   "outputs": [],
   "source": [
    "def get_embedding_model(model_name: str):\n",
    "    return OpenAIEmbeddings(\n",
    "        model=model_name\n",
    "    )\n",
    "\n",
    "embedding_model = get_embedding_model(model_name=\"text-embedding-ada-002\")"
   ]
  },
  {
   "cell_type": "markdown",
   "metadata": {},
   "source": [
    "#### Instantiate OpenSearchVectorSearch vector store"
   ]
  },
  {
   "cell_type": "code",
   "execution_count": 6,
   "metadata": {},
   "outputs": [],
   "source": [
    "opensearch_vectorstore = OpenSearchVectorSearch(\n",
    "    index_name=os.getenv(\"INDEX_NAME\"),\n",
    "    embedding_function=embedding_model,\n",
    "    opensearch_url=os.getenv(\"OPENSEARCH_URL\"),\n",
    "    http_auth= (os.getenv(\"OPENSEARCH_USERNAME\"),os.getenv(\"OPENSEARCH_PASSWORD\")),\n",
    "    use_ssl=False,\n",
    "    verify_certs=False,\n",
    "    ssl_assert_hostname=False,\n",
    "    ssl_show_warn=False\n",
    ")"
   ]
  },
  {
   "cell_type": "code",
   "execution_count": 10,
   "metadata": {},
   "outputs": [
    {
     "data": {
      "text/plain": [
       "[(Document(page_content='A vector database, vector store or vector search engine is a database that can store vectors (fixed-length lists of numbers) along with other data items. Vector databases typically implement one or more Approximate Nearest Neighbor (ANN) algorithms,[1][2] so that one can search the database with a query vector to retrieve the closest matching database records.Vectors are mathematical', metadata={'date': '2022-06-01', 'parent_id': 'doc653', 'name': 'Vector Store', 'source': 'https://api.python.langchain.com/', 'published': False, 'lang': 'eng'}),\n",
       "  6.866866),\n",
       " (Document(page_content=\"database records.Vectors are mathematical representations of data in a high-dimensional space. In this space, each dimension corresponds to a feature of the data, with the number of dimensions ranging from few hundreds to tens of thousands, depending on the complexity of the data being represented. A vector's position in this space represents its characteristics. Words, phrases, or entire\", metadata={'date': '2022-06-01', 'parent_id': 'doc653', 'name': 'Vector Store', 'source': 'https://api.python.langchain.com/', 'published': False, 'lang': 'eng'}),\n",
       "  6.0626907),\n",
       " (Document(page_content='code generation, analysis, and debugging; Milvus vector database[11] to store and retrieve vector embeddings; Weaviate vector database[12] to cache embedding and data objects; Redis cache database storage; Python RequestsWrapper and other methods for API requests; SQL and NoSQL databases including JSON support; Streamlit, including for logging; text mapping for k-nearest neighbors search; time', metadata={'date': '2024-02-28', 'parent_id': 'doc333', 'name': 'Langchain', 'source': 'https://api.python.langchain.com/', 'published': False, 'lang': 'eng'}),\n",
       "  4.248564)]"
      ]
     },
     "execution_count": 10,
     "metadata": {},
     "output_type": "execute_result"
    }
   ],
   "source": [
    "query = \"what are the country named in our database?\"\n",
    "\n",
    "top_k = 3\n",
    "\n",
    "matched_docs = opensearch_vectorstore.similarity_search_with_score(\n",
    "                query=query,\n",
    "                k=top_k,\n",
    "                search_type=\"full_text_search\",\n",
    "                vector_field=\"vector_field\",\n",
    "                text_field=\"text\",\n",
    "                metadata_field=\"metadata\"\n",
    "            )\n",
    "\n",
    "matched_docs"
   ]
  },
  {
   "cell_type": "code",
   "execution_count": 11,
   "metadata": {},
   "outputs": [],
   "source": [
    "def pretty_print(matched_docs: list):\n",
    "    for doc,score in matched_docs: \n",
    "        print(f\"Content: {doc.page_content}\")\n",
    "        print(f\"Metadata: {doc.metadata}\")\n",
    "        print(f\"Score: {score}\")\n",
    "        print(\"\\n\")"
   ]
  },
  {
   "cell_type": "code",
   "execution_count": 12,
   "metadata": {},
   "outputs": [
    {
     "name": "stdout",
     "output_type": "stream",
     "text": [
      "Content: A vector database, vector store or vector search engine is a database that can store vectors (fixed-length lists of numbers) along with other data items. Vector databases typically implement one or more Approximate Nearest Neighbor (ANN) algorithms,[1][2] so that one can search the database with a query vector to retrieve the closest matching database records.Vectors are mathematical\n",
      "Metadata: {'date': '2022-06-01', 'parent_id': 'doc653', 'name': 'Vector Store', 'source': 'https://api.python.langchain.com/', 'published': False, 'lang': 'eng'}\n",
      "Score: 6.866866\n",
      "\n",
      "\n",
      "Content: database records.Vectors are mathematical representations of data in a high-dimensional space. In this space, each dimension corresponds to a feature of the data, with the number of dimensions ranging from few hundreds to tens of thousands, depending on the complexity of the data being represented. A vector's position in this space represents its characteristics. Words, phrases, or entire\n",
      "Metadata: {'date': '2022-06-01', 'parent_id': 'doc653', 'name': 'Vector Store', 'source': 'https://api.python.langchain.com/', 'published': False, 'lang': 'eng'}\n",
      "Score: 6.0626907\n",
      "\n",
      "\n",
      "Content: code generation, analysis, and debugging; Milvus vector database[11] to store and retrieve vector embeddings; Weaviate vector database[12] to cache embedding and data objects; Redis cache database storage; Python RequestsWrapper and other methods for API requests; SQL and NoSQL databases including JSON support; Streamlit, including for logging; text mapping for k-nearest neighbors search; time\n",
      "Metadata: {'date': '2024-02-28', 'parent_id': 'doc333', 'name': 'Langchain', 'source': 'https://api.python.langchain.com/', 'published': False, 'lang': 'eng'}\n",
      "Score: 4.248564\n",
      "\n",
      "\n"
     ]
    }
   ],
   "source": [
    "pretty_print(matched_docs)"
   ]
  }
 ],
 "metadata": {
  "kernelspec": {
   "display_name": "llm_apps",
   "language": "python",
   "name": "python3"
  },
  "language_info": {
   "codemirror_mode": {
    "name": "ipython",
    "version": 3
   },
   "file_extension": ".py",
   "mimetype": "text/x-python",
   "name": "python",
   "nbconvert_exporter": "python",
   "pygments_lexer": "ipython3",
   "version": "3.10.0"
  }
 },
 "nbformat": 4,
 "nbformat_minor": 2
}
