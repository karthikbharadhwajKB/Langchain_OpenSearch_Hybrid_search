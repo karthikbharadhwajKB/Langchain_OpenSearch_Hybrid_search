{
 "cells": [
  {
   "cell_type": "markdown",
   "metadata": {},
   "source": [
    "### OpenSearch - Hybrid Search "
   ]
  },
  {
   "cell_type": "markdown",
   "metadata": {},
   "source": [
    "I have taken LangChain's OpenSearch integration to the next level by adding hybrid search capabilities. Building on the existing OpenSearchVectorSearch class, I have implemented Hybrid Search functionality (which combines the best of both keyword and semantic search). This new functionality allows users to harness the power of OpenSearch's advanced hybrid search features without leaving the familiar LangChain ecosystem. By blending traditional text matching with vector-based similarity, the enhanced class delivers more accurate and contextually relevant results. It's designed to seamlessly fit into existing LangChain workflows, making it easy for developers to upgrade their search capabilities.\n",
    "\n",
    "In implementing hybrid search for OpenSearch within the LangChain framework, I also incorporated filtering capabilities. It's important to note that according to the OpenSearch hybrid search documentation, only post-filtering is supported for hybrid queries. This means that the filtering is applied after the hybrid search results are obtained, rather than during the initial search process.\n",
    "\n",
    "**Note:** For the implementation of hybrid search, I strictly followed the official OpenSearch Hybrid search documentation. "
   ]
  },
  {
   "cell_type": "markdown",
   "metadata": {},
   "source": [
    "Importing Required Libraries"
   ]
  },
  {
   "cell_type": "code",
   "execution_count": 2,
   "metadata": {},
   "outputs": [],
   "source": [
    "from opensearch_vector_search import OpenSearchVectorSearch\n",
    "from langchain_openai import OpenAIEmbeddings\n",
    "import os"
   ]
  },
  {
   "cell_type": "markdown",
   "metadata": {},
   "source": [
    "Loading all environment variables"
   ]
  },
  {
   "cell_type": "code",
   "execution_count": 3,
   "metadata": {},
   "outputs": [
    {
     "data": {
      "text/plain": [
       "True"
      ]
     },
     "execution_count": 3,
     "metadata": {},
     "output_type": "execute_result"
    }
   ],
   "source": [
    "from dotenv import load_dotenv\n",
    "\n",
    "load_dotenv()"
   ]
  },
  {
   "cell_type": "markdown",
   "metadata": {},
   "source": [
    "#### Embedding model "
   ]
  },
  {
   "cell_type": "code",
   "execution_count": 4,
   "metadata": {},
   "outputs": [],
   "source": [
    "def get_embedding_model(model_name: str):\n",
    "    return OpenAIEmbeddings(\n",
    "        model=model_name\n",
    "    )\n",
    "\n",
    "embedding_model = get_embedding_model(model_name=\"text-embedding-ada-002\")"
   ]
  },
  {
   "cell_type": "markdown",
   "metadata": {},
   "source": [
    "#### Instantiate OpenSearchVectorSearch vector store"
   ]
  },
  {
   "cell_type": "code",
   "execution_count": 5,
   "metadata": {},
   "outputs": [],
   "source": [
    "opensearch_vectorstore = OpenSearchVectorSearch(\n",
    "    index_name=os.getenv(\"INDEX_NAME\"),\n",
    "    embedding_function=embedding_model,\n",
    "    opensearch_url=os.getenv(\"OPENSEARCH_URL\"),\n",
    "    http_auth= (os.getenv(\"OPENSEARCH_USERNAME\"),os.getenv(\"OPENSEARCH_PASSWORD\")),\n",
    "    use_ssl=False,\n",
    "    verify_certs=False,\n",
    "    ssl_assert_hostname=False,\n",
    "    ssl_show_warn=False\n",
    ")"
   ]
  },
  {
   "cell_type": "markdown",
   "metadata": {},
   "source": [
    "### Creating Search Pipeline "
   ]
  },
  {
   "cell_type": "code",
   "execution_count": 7,
   "metadata": {},
   "outputs": [
    {
     "data": {
      "text/plain": [
       "<Response [200]>"
      ]
     },
     "execution_count": 7,
     "metadata": {},
     "output_type": "execute_result"
    }
   ],
   "source": [
    "opensearch_vectorstore.create_search_pipelines(\n",
    "    pipeline_name=\"search_pipeline_keyword_0.3_vector_0.7\",\n",
    "    keyword_weight=0.3,\n",
    "    vector_weight=0.7,\n",
    ")"
   ]
  },
  {
   "cell_type": "markdown",
   "metadata": {},
   "source": [
    "### Hybrid Search"
   ]
  },
  {
   "cell_type": "code",
   "execution_count": 16,
   "metadata": {},
   "outputs": [
    {
     "data": {
      "text/plain": [
       "[(Document(page_content='Italy,[a] officially the Italian Republic,[b] is a country in Southern[12] and Western[13][c] Europe. It is located on a peninsula that extends into the middle of the Mediterranean Sea, with the Alps on its northern land border, as well as islands, notably Sicily and Sardinia.[15] Italy shares its borders with France, Switzerland, Austria, Slovenia and two enclaves: Vatican City and San Marino. It', metadata={'date': '20240916', 'parent_id': 'doc345', 'name': 'Italy', 'source': 'https://api.python.langchain.com/', 'published': True, 'lang': 'eng'}),\n",
       "  0.7),\n",
       " (Document(page_content='and two enclaves: Vatican City and San Marino. It is the tenth-largest country in Europe, covering an area of 301,340 km2 (116,350 sq mi),[3] and third-most populous member state of the European Union, with a population of nearly 60 million.[16] Its capital and largest city is Rome; other major urban areas include Milan, Naples, Turin, Florence, and Venice.In antiquity, Italy was home to numerous', metadata={'date': '20240916', 'parent_id': 'doc345', 'name': 'Italy', 'source': 'https://api.python.langchain.com/', 'published': True, 'lang': 'eng'}),\n",
       "  0.59077215),\n",
       " (Document(page_content='A vector database, vector store or vector search engine is a database that can store vectors (fixed-length lists of numbers) along with other data items. Vector databases typically implement one or more Approximate Nearest Neighbor (ANN) algorithms,[1][2] so that one can search the database with a query vector to retrieve the closest matching database records.Vectors are mathematical', metadata={'date': '2022-06-01', 'parent_id': 'doc653', 'name': 'Vector Store', 'source': 'https://api.python.langchain.com/', 'published': False, 'lang': 'eng'}),\n",
       "  0.3)]"
      ]
     },
     "execution_count": 16,
     "metadata": {},
     "output_type": "execute_result"
    }
   ],
   "source": [
    "query = \"what are the country named in our database?\"\n",
    "\n",
    "top_k = 3\n",
    "\n",
    "pipeline_name = \"search_pipeline_keyword_0.3_vector_0.7\"\n",
    "\n",
    "matched_docs = opensearch_vectorstore.similarity_search_with_score(\n",
    "                query=query,\n",
    "                k=top_k,\n",
    "                search_type=\"hybrid_search\",\n",
    "                search_pipeline = pipeline_name,\n",
    "                vector_field=\"vector_field\",\n",
    "                text_field=\"text\",\n",
    "                metadata_field=\"metadata\"\n",
    "            )\n",
    "\n",
    "matched_docs"
   ]
  },
  {
   "cell_type": "code",
   "execution_count": 19,
   "metadata": {},
   "outputs": [],
   "source": [
    "def pretty_print(matched_docs: list):\n",
    "    for doc,score in matched_docs: \n",
    "        print(f\"Content: {doc.page_content}\")\n",
    "        print(f\"Metadata: {doc.metadata}\")\n",
    "        print(f\"Score: {score}\")\n",
    "        print(\"\\n\")"
   ]
  },
  {
   "cell_type": "code",
   "execution_count": 20,
   "metadata": {},
   "outputs": [
    {
     "name": "stdout",
     "output_type": "stream",
     "text": [
      "Content: Italy,[a] officially the Italian Republic,[b] is a country in Southern[12] and Western[13][c] Europe. It is located on a peninsula that extends into the middle of the Mediterranean Sea, with the Alps on its northern land border, as well as islands, notably Sicily and Sardinia.[15] Italy shares its borders with France, Switzerland, Austria, Slovenia and two enclaves: Vatican City and San Marino. It\n",
      "Metadata: {'date': '20240916', 'parent_id': 'doc345', 'name': 'Italy', 'source': 'https://api.python.langchain.com/', 'published': True, 'lang': 'eng'}\n",
      "Score: 0.7\n",
      "\n",
      "\n",
      "Content: and two enclaves: Vatican City and San Marino. It is the tenth-largest country in Europe, covering an area of 301,340 km2 (116,350 sq mi),[3] and third-most populous member state of the European Union, with a population of nearly 60 million.[16] Its capital and largest city is Rome; other major urban areas include Milan, Naples, Turin, Florence, and Venice.In antiquity, Italy was home to numerous\n",
      "Metadata: {'date': '20240916', 'parent_id': 'doc345', 'name': 'Italy', 'source': 'https://api.python.langchain.com/', 'published': True, 'lang': 'eng'}\n",
      "Score: 0.59077215\n",
      "\n",
      "\n",
      "Content: A vector database, vector store or vector search engine is a database that can store vectors (fixed-length lists of numbers) along with other data items. Vector databases typically implement one or more Approximate Nearest Neighbor (ANN) algorithms,[1][2] so that one can search the database with a query vector to retrieve the closest matching database records.Vectors are mathematical\n",
      "Metadata: {'date': '2022-06-01', 'parent_id': 'doc653', 'name': 'Vector Store', 'source': 'https://api.python.langchain.com/', 'published': False, 'lang': 'eng'}\n",
      "Score: 0.3\n",
      "\n",
      "\n"
     ]
    }
   ],
   "source": [
    "pretty_print(matched_docs)"
   ]
  },
  {
   "cell_type": "markdown",
   "metadata": {},
   "source": [
    "#### Experiment - 1 \n",
    "\n",
    "\n"
   ]
  },
  {
   "cell_type": "markdown",
   "metadata": {},
   "source": [
    "#### Hybrid Search \n",
    "\n",
    "Keyword_weight: 1, vector_weight: 0 "
   ]
  },
  {
   "cell_type": "markdown",
   "metadata": {},
   "source": [
    "I conducted an experiment to verify the accuracy of my hybrid search implementation by comparing it to a plain keyword search. For this test, I set the keyword_weight to 1 and the vector_weight to 0 in the hybrid search, effectively giving full weightage to the keyword component. The results from this hybrid search configuration matched those of a plain keyword search, confirming that my implementation can accurately reproduce keyword-only search results when needed. It's important to note that while the results were the same, the scores differed between the two methods. This difference is expected because the plain keyword search in OpenSearch uses the BM25 algorithm for scoring, whereas the hybrid search still performs both keyword and vector searches before normalizing the scores, even when the vector component is given zero weight. This experiment validates that my hybrid search solution correctly handles the keyword search component and properly applies the weighting system, demonstrating its accuracy and flexibility in emulating different search scenarios."
   ]
  },
  {
   "cell_type": "code",
   "execution_count": 30,
   "metadata": {},
   "outputs": [
    {
     "data": {
      "text/plain": [
       "<Response [200]>"
      ]
     },
     "execution_count": 30,
     "metadata": {},
     "output_type": "execute_result"
    }
   ],
   "source": [
    "opensearch_vectorstore.create_search_pipelines(\n",
    "    pipeline_name=\"search_pipeline_keyword_1_vector_0\",\n",
    "    keyword_weight=1.0,\n",
    "    vector_weight=0.0,\n",
    ")"
   ]
  },
  {
   "cell_type": "code",
   "execution_count": 22,
   "metadata": {},
   "outputs": [
    {
     "data": {
      "text/plain": [
       "[(Document(page_content='A vector database, vector store or vector search engine is a database that can store vectors (fixed-length lists of numbers) along with other data items. Vector databases typically implement one or more Approximate Nearest Neighbor (ANN) algorithms,[1][2] so that one can search the database with a query vector to retrieve the closest matching database records.Vectors are mathematical', metadata={'date': '2022-06-01', 'parent_id': 'doc653', 'name': 'Vector Store', 'source': 'https://api.python.langchain.com/', 'published': False, 'lang': 'eng'}),\n",
       "  1.0),\n",
       " (Document(page_content=\"database records.Vectors are mathematical representations of data in a high-dimensional space. In this space, each dimension corresponds to a feature of the data, with the number of dimensions ranging from few hundreds to tens of thousands, depending on the complexity of the data being represented. A vector's position in this space represents its characteristics. Words, phrases, or entire\", metadata={'date': '2022-06-01', 'parent_id': 'doc653', 'name': 'Vector Store', 'source': 'https://api.python.langchain.com/', 'published': False, 'lang': 'eng'}),\n",
       "  0.6928638),\n",
       " (Document(page_content='code generation, analysis, and debugging; Milvus vector database[11] to store and retrieve vector embeddings; Weaviate vector database[12] to cache embedding and data objects; Redis cache database storage; Python RequestsWrapper and other methods for API requests; SQL and NoSQL databases including JSON support; Streamlit, including for logging; text mapping for k-nearest neighbors search; time', metadata={'date': '2024-02-28', 'parent_id': 'doc333', 'name': 'Langchain', 'source': 'https://api.python.langchain.com/', 'published': False, 'lang': 'eng'}),\n",
       "  0.001)]"
      ]
     },
     "execution_count": 22,
     "metadata": {},
     "output_type": "execute_result"
    }
   ],
   "source": [
    "query = \"what are the country named in our database?\"\n",
    "\n",
    "top_k = 3\n",
    "\n",
    "pipeline_name = \"search_pipeline_keyword_1_vector_0\"\n",
    "\n",
    "matched_docs = opensearch_vectorstore.similarity_search_with_score(\n",
    "                query=query,\n",
    "                k=top_k,\n",
    "                search_type=\"hybrid_search\",\n",
    "                search_pipeline = pipeline_name,\n",
    "                vector_field=\"vector_field\",\n",
    "                text_field=\"text\",\n",
    "                metadata_field=\"metadata\"\n",
    "            )\n",
    "\n",
    "matched_docs"
   ]
  },
  {
   "cell_type": "code",
   "execution_count": 23,
   "metadata": {},
   "outputs": [
    {
     "name": "stdout",
     "output_type": "stream",
     "text": [
      "Content: A vector database, vector store or vector search engine is a database that can store vectors (fixed-length lists of numbers) along with other data items. Vector databases typically implement one or more Approximate Nearest Neighbor (ANN) algorithms,[1][2] so that one can search the database with a query vector to retrieve the closest matching database records.Vectors are mathematical\n",
      "Metadata: {'date': '2022-06-01', 'parent_id': 'doc653', 'name': 'Vector Store', 'source': 'https://api.python.langchain.com/', 'published': False, 'lang': 'eng'}\n",
      "Score: 1.0\n",
      "\n",
      "\n",
      "Content: database records.Vectors are mathematical representations of data in a high-dimensional space. In this space, each dimension corresponds to a feature of the data, with the number of dimensions ranging from few hundreds to tens of thousands, depending on the complexity of the data being represented. A vector's position in this space represents its characteristics. Words, phrases, or entire\n",
      "Metadata: {'date': '2022-06-01', 'parent_id': 'doc653', 'name': 'Vector Store', 'source': 'https://api.python.langchain.com/', 'published': False, 'lang': 'eng'}\n",
      "Score: 0.6928638\n",
      "\n",
      "\n",
      "Content: code generation, analysis, and debugging; Milvus vector database[11] to store and retrieve vector embeddings; Weaviate vector database[12] to cache embedding and data objects; Redis cache database storage; Python RequestsWrapper and other methods for API requests; SQL and NoSQL databases including JSON support; Streamlit, including for logging; text mapping for k-nearest neighbors search; time\n",
      "Metadata: {'date': '2024-02-28', 'parent_id': 'doc333', 'name': 'Langchain', 'source': 'https://api.python.langchain.com/', 'published': False, 'lang': 'eng'}\n",
      "Score: 0.001\n",
      "\n",
      "\n"
     ]
    }
   ],
   "source": [
    "pretty_print(matched_docs)"
   ]
  },
  {
   "cell_type": "markdown",
   "metadata": {},
   "source": [
    "#### Plain Keyword Search"
   ]
  },
  {
   "cell_type": "code",
   "execution_count": 28,
   "metadata": {},
   "outputs": [
    {
     "data": {
      "text/plain": [
       "[(Document(page_content='A vector database, vector store or vector search engine is a database that can store vectors (fixed-length lists of numbers) along with other data items. Vector databases typically implement one or more Approximate Nearest Neighbor (ANN) algorithms,[1][2] so that one can search the database with a query vector to retrieve the closest matching database records.Vectors are mathematical', metadata={'date': '2022-06-01', 'parent_id': 'doc653', 'name': 'Vector Store', 'source': 'https://api.python.langchain.com/', 'published': False, 'lang': 'eng'}),\n",
       "  6.866866),\n",
       " (Document(page_content=\"database records.Vectors are mathematical representations of data in a high-dimensional space. In this space, each dimension corresponds to a feature of the data, with the number of dimensions ranging from few hundreds to tens of thousands, depending on the complexity of the data being represented. A vector's position in this space represents its characteristics. Words, phrases, or entire\", metadata={'date': '2022-06-01', 'parent_id': 'doc653', 'name': 'Vector Store', 'source': 'https://api.python.langchain.com/', 'published': False, 'lang': 'eng'}),\n",
       "  6.0626907),\n",
       " (Document(page_content='code generation, analysis, and debugging; Milvus vector database[11] to store and retrieve vector embeddings; Weaviate vector database[12] to cache embedding and data objects; Redis cache database storage; Python RequestsWrapper and other methods for API requests; SQL and NoSQL databases including JSON support; Streamlit, including for logging; text mapping for k-nearest neighbors search; time', metadata={'date': '2024-02-28', 'parent_id': 'doc333', 'name': 'Langchain', 'source': 'https://api.python.langchain.com/', 'published': False, 'lang': 'eng'}),\n",
       "  4.248564)]"
      ]
     },
     "execution_count": 28,
     "metadata": {},
     "output_type": "execute_result"
    }
   ],
   "source": [
    "query = \"what are the country named in our database?\"\n",
    "\n",
    "top_k = 3\n",
    "\n",
    "matched_docs = opensearch_vectorstore.similarity_search_with_score(\n",
    "                query=query,\n",
    "                k=top_k,\n",
    "                search_type=\"full_text_search\",\n",
    "                vector_field=\"vector_field\",\n",
    "                text_field=\"text\",\n",
    "                metadata_field=\"metadata\"\n",
    "            )\n",
    "\n",
    "matched_docs"
   ]
  },
  {
   "cell_type": "code",
   "execution_count": 29,
   "metadata": {},
   "outputs": [
    {
     "name": "stdout",
     "output_type": "stream",
     "text": [
      "Content: A vector database, vector store or vector search engine is a database that can store vectors (fixed-length lists of numbers) along with other data items. Vector databases typically implement one or more Approximate Nearest Neighbor (ANN) algorithms,[1][2] so that one can search the database with a query vector to retrieve the closest matching database records.Vectors are mathematical\n",
      "Metadata: {'date': '2022-06-01', 'parent_id': 'doc653', 'name': 'Vector Store', 'source': 'https://api.python.langchain.com/', 'published': False, 'lang': 'eng'}\n",
      "Score: 6.866866\n",
      "\n",
      "\n",
      "Content: database records.Vectors are mathematical representations of data in a high-dimensional space. In this space, each dimension corresponds to a feature of the data, with the number of dimensions ranging from few hundreds to tens of thousands, depending on the complexity of the data being represented. A vector's position in this space represents its characteristics. Words, phrases, or entire\n",
      "Metadata: {'date': '2022-06-01', 'parent_id': 'doc653', 'name': 'Vector Store', 'source': 'https://api.python.langchain.com/', 'published': False, 'lang': 'eng'}\n",
      "Score: 6.0626907\n",
      "\n",
      "\n",
      "Content: code generation, analysis, and debugging; Milvus vector database[11] to store and retrieve vector embeddings; Weaviate vector database[12] to cache embedding and data objects; Redis cache database storage; Python RequestsWrapper and other methods for API requests; SQL and NoSQL databases including JSON support; Streamlit, including for logging; text mapping for k-nearest neighbors search; time\n",
      "Metadata: {'date': '2024-02-28', 'parent_id': 'doc333', 'name': 'Langchain', 'source': 'https://api.python.langchain.com/', 'published': False, 'lang': 'eng'}\n",
      "Score: 4.248564\n",
      "\n",
      "\n"
     ]
    }
   ],
   "source": [
    "pretty_print(matched_docs)"
   ]
  },
  {
   "cell_type": "markdown",
   "metadata": {},
   "source": [
    "### Experiment - 2\n",
    "\n",
    "#### Hybrid Search \n",
    "\n",
    "keyword_weight = 0.0, vector_weight = 1.0"
   ]
  },
  {
   "cell_type": "markdown",
   "metadata": {},
   "source": [
    "For experiment-2, I took the inverse approach to further validate my hybrid search implementation. I set the keyword_weight to 0 and the vector_weight to 1, effectively giving full weightage to the vector search component (KNN search). I then compared these results with a pure vector search. The outcome was consistent with my expectations: the results from the hybrid search with these settings exactly matched those from a standalone vector search. This confirms that my implementation accurately reproduces vector search results when configured to do so. As with the first experiment, I observed that while the results were identical, the scores differed between the two methods. This difference in scoring is expected and can be attributed to the normalization process in hybrid search, which still considers both components even when one is given zero weight. This experiment further validates the accuracy and flexibility of my hybrid search solution, demonstrating its ability to effectively emulate pure vector search when needed while maintaining the underlying hybrid search structure."
   ]
  },
  {
   "cell_type": "code",
   "execution_count": 31,
   "metadata": {},
   "outputs": [
    {
     "data": {
      "text/plain": [
       "<Response [200]>"
      ]
     },
     "execution_count": 31,
     "metadata": {},
     "output_type": "execute_result"
    }
   ],
   "source": [
    "opensearch_vectorstore.create_search_pipelines(\n",
    "    pipeline_name=\"search_pipeline_keyword_0_vector_1\",\n",
    "    keyword_weight=0.0,\n",
    "    vector_weight=1.0,\n",
    ")"
   ]
  },
  {
   "cell_type": "code",
   "execution_count": 32,
   "metadata": {},
   "outputs": [
    {
     "data": {
      "text/plain": [
       "[(Document(page_content='Italy,[a] officially the Italian Republic,[b] is a country in Southern[12] and Western[13][c] Europe. It is located on a peninsula that extends into the middle of the Mediterranean Sea, with the Alps on its northern land border, as well as islands, notably Sicily and Sardinia.[15] Italy shares its borders with France, Switzerland, Austria, Slovenia and two enclaves: Vatican City and San Marino. It', metadata={'date': '20240916', 'parent_id': 'doc345', 'name': 'Italy', 'source': 'https://api.python.langchain.com/', 'published': True, 'lang': 'eng'}),\n",
       "  1.0),\n",
       " (Document(page_content='and two enclaves: Vatican City and San Marino. It is the tenth-largest country in Europe, covering an area of 301,340 km2 (116,350 sq mi),[3] and third-most populous member state of the European Union, with a population of nearly 60 million.[16] Its capital and largest city is Rome; other major urban areas include Milan, Naples, Turin, Florence, and Venice.In antiquity, Italy was home to numerous', metadata={'date': '20240916', 'parent_id': 'doc345', 'name': 'Italy', 'source': 'https://api.python.langchain.com/', 'published': True, 'lang': 'eng'}),\n",
       "  0.8439602),\n",
       " (Document(page_content='in semifinale il campione in carica dei Giochi Panamericani Yusneylis Guzman di Cuba.', metadata={'date': '2024-08-07', 'parent_id': 'doc754', 'name': 'Perché Vinesh Phogat è stato squalificato dal wrestling delle Olimpiadi di Parigi 2024', 'section': 'sports', 'source': 'https://newstoday.com', 'published': True, 'lang': 'ita'}),\n",
       "  0.001)]"
      ]
     },
     "execution_count": 32,
     "metadata": {},
     "output_type": "execute_result"
    }
   ],
   "source": [
    "query = \"what are the country named in our database?\"\n",
    "\n",
    "top_k = 3\n",
    "\n",
    "pipeline_name = \"search_pipeline_keyword_0_vector_1\"\n",
    "\n",
    "matched_docs = opensearch_vectorstore.similarity_search_with_score(\n",
    "                query=query,\n",
    "                k=top_k,\n",
    "                search_type=\"hybrid_search\",\n",
    "                search_pipeline = pipeline_name,\n",
    "                vector_field=\"vector_field\",\n",
    "                text_field=\"text\",\n",
    "                metadata_field=\"metadata\"\n",
    "            )\n",
    "\n",
    "matched_docs"
   ]
  },
  {
   "cell_type": "code",
   "execution_count": 33,
   "metadata": {},
   "outputs": [
    {
     "name": "stdout",
     "output_type": "stream",
     "text": [
      "Content: Italy,[a] officially the Italian Republic,[b] is a country in Southern[12] and Western[13][c] Europe. It is located on a peninsula that extends into the middle of the Mediterranean Sea, with the Alps on its northern land border, as well as islands, notably Sicily and Sardinia.[15] Italy shares its borders with France, Switzerland, Austria, Slovenia and two enclaves: Vatican City and San Marino. It\n",
      "Metadata: {'date': '20240916', 'parent_id': 'doc345', 'name': 'Italy', 'source': 'https://api.python.langchain.com/', 'published': True, 'lang': 'eng'}\n",
      "Score: 1.0\n",
      "\n",
      "\n",
      "Content: and two enclaves: Vatican City and San Marino. It is the tenth-largest country in Europe, covering an area of 301,340 km2 (116,350 sq mi),[3] and third-most populous member state of the European Union, with a population of nearly 60 million.[16] Its capital and largest city is Rome; other major urban areas include Milan, Naples, Turin, Florence, and Venice.In antiquity, Italy was home to numerous\n",
      "Metadata: {'date': '20240916', 'parent_id': 'doc345', 'name': 'Italy', 'source': 'https://api.python.langchain.com/', 'published': True, 'lang': 'eng'}\n",
      "Score: 0.8439602\n",
      "\n",
      "\n",
      "Content: in semifinale il campione in carica dei Giochi Panamericani Yusneylis Guzman di Cuba.\n",
      "Metadata: {'date': '2024-08-07', 'parent_id': 'doc754', 'name': 'Perché Vinesh Phogat è stato squalificato dal wrestling delle Olimpiadi di Parigi 2024', 'section': 'sports', 'source': 'https://newstoday.com', 'published': True, 'lang': 'ita'}\n",
      "Score: 0.001\n",
      "\n",
      "\n"
     ]
    }
   ],
   "source": [
    "pretty_print(matched_docs)"
   ]
  },
  {
   "cell_type": "markdown",
   "metadata": {},
   "source": [
    "#### Pure Vector Search"
   ]
  },
  {
   "cell_type": "code",
   "execution_count": 34,
   "metadata": {},
   "outputs": [
    {
     "data": {
      "text/plain": [
       "[(Document(page_content='Italy,[a] officially the Italian Republic,[b] is a country in Southern[12] and Western[13][c] Europe. It is located on a peninsula that extends into the middle of the Mediterranean Sea, with the Alps on its northern land border, as well as islands, notably Sicily and Sardinia.[15] Italy shares its borders with France, Switzerland, Austria, Slovenia and two enclaves: Vatican City and San Marino. It', metadata={'name': 'Italy', 'source': 'https://api.python.langchain.com/', 'date': '20240916', 'lang': 'eng', 'published': True, 'parent_id': 'doc345'}),\n",
       "  1.7577173),\n",
       " (Document(page_content='and two enclaves: Vatican City and San Marino. It is the tenth-largest country in Europe, covering an area of 301,340 km2 (116,350 sq mi),[3] and third-most populous member state of the European Union, with a population of nearly 60 million.[16] Its capital and largest city is Rome; other major urban areas include Milan, Naples, Turin, Florence, and Venice.In antiquity, Italy was home to numerous', metadata={'name': 'Italy', 'source': 'https://api.python.langchain.com/', 'date': '20240916', 'lang': 'eng', 'published': True, 'parent_id': 'doc345'}),\n",
       "  1.7530031),\n",
       " (Document(page_content='in semifinale il campione in carica dei Giochi Panamericani Yusneylis Guzman di Cuba.', metadata={'name': 'Perché Vinesh Phogat è stato squalificato dal wrestling delle Olimpiadi di Parigi 2024', 'source': 'https://newstoday.com', 'date': '2024-08-07', 'lang': 'ita', 'published': True, 'section': 'sports', 'parent_id': 'doc754'}),\n",
       "  1.7275062)]"
      ]
     },
     "execution_count": 34,
     "metadata": {},
     "output_type": "execute_result"
    }
   ],
   "source": [
    "query = \"what are the country named in our database?\"\n",
    "\n",
    "top_k = 3\n",
    "\n",
    "matched_docs = opensearch_vectorstore.similarity_search_with_score(\n",
    "                query=query,\n",
    "                k=top_k,\n",
    "                search_type=\"approximate_search\",\n",
    "                vector_field=\"vector_field\",\n",
    "                text_field=\"text\",\n",
    "                metadata_field=\"metadata\"\n",
    "            )\n",
    "\n",
    "matched_docs"
   ]
  },
  {
   "cell_type": "code",
   "execution_count": 35,
   "metadata": {},
   "outputs": [
    {
     "name": "stdout",
     "output_type": "stream",
     "text": [
      "Content: Italy,[a] officially the Italian Republic,[b] is a country in Southern[12] and Western[13][c] Europe. It is located on a peninsula that extends into the middle of the Mediterranean Sea, with the Alps on its northern land border, as well as islands, notably Sicily and Sardinia.[15] Italy shares its borders with France, Switzerland, Austria, Slovenia and two enclaves: Vatican City and San Marino. It\n",
      "Metadata: {'name': 'Italy', 'source': 'https://api.python.langchain.com/', 'date': '20240916', 'lang': 'eng', 'published': True, 'parent_id': 'doc345'}\n",
      "Score: 1.7577173\n",
      "\n",
      "\n",
      "Content: and two enclaves: Vatican City and San Marino. It is the tenth-largest country in Europe, covering an area of 301,340 km2 (116,350 sq mi),[3] and third-most populous member state of the European Union, with a population of nearly 60 million.[16] Its capital and largest city is Rome; other major urban areas include Milan, Naples, Turin, Florence, and Venice.In antiquity, Italy was home to numerous\n",
      "Metadata: {'name': 'Italy', 'source': 'https://api.python.langchain.com/', 'date': '20240916', 'lang': 'eng', 'published': True, 'parent_id': 'doc345'}\n",
      "Score: 1.7530031\n",
      "\n",
      "\n",
      "Content: in semifinale il campione in carica dei Giochi Panamericani Yusneylis Guzman di Cuba.\n",
      "Metadata: {'name': 'Perché Vinesh Phogat è stato squalificato dal wrestling delle Olimpiadi di Parigi 2024', 'source': 'https://newstoday.com', 'date': '2024-08-07', 'lang': 'ita', 'published': True, 'section': 'sports', 'parent_id': 'doc754'}\n",
      "Score: 1.7275062\n",
      "\n",
      "\n"
     ]
    }
   ],
   "source": [
    "pretty_print(matched_docs)"
   ]
  },
  {
   "cell_type": "markdown",
   "metadata": {},
   "source": [
    "### Experiment - 3\n",
    "\n",
    "Hybrid Search - balanced \n",
    "\n",
    "keyword_weight = 0.5, vector_weight = 0.5"
   ]
  },
  {
   "cell_type": "markdown",
   "metadata": {},
   "source": [
    "For experiment-3, I adopted a balanced approach to further evaluate the effectiveness of my hybrid search implementation. In this test, I set both the keyword_weight and vector_weight to 0.5, giving equal importance to keyword-based and vector-based search components. This configuration aims to leverage the strengths of both search methods simultaneously.\n",
    "By setting both weights to 0.5, I intended to create a scenario where the hybrid search would consider lexical matches and semantic similarity equally. This balanced approach is often ideal for many real-world applications, as it can capture both exact keyword matches and contextually relevant results that might not contain the exact search terms."
   ]
  },
  {
   "cell_type": "code",
   "execution_count": 36,
   "metadata": {},
   "outputs": [
    {
     "data": {
      "text/plain": [
       "<Response [200]>"
      ]
     },
     "execution_count": 36,
     "metadata": {},
     "output_type": "execute_result"
    }
   ],
   "source": [
    "opensearch_vectorstore.create_search_pipelines(\n",
    "    pipeline_name=\"search_pipeline_keyword_0.5_vector_0.5\",\n",
    "    keyword_weight=0.5,\n",
    "    vector_weight=0.5,\n",
    ")"
   ]
  },
  {
   "cell_type": "code",
   "execution_count": 37,
   "metadata": {},
   "outputs": [
    {
     "data": {
      "text/plain": [
       "[(Document(page_content='Italy,[a] officially the Italian Republic,[b] is a country in Southern[12] and Western[13][c] Europe. It is located on a peninsula that extends into the middle of the Mediterranean Sea, with the Alps on its northern land border, as well as islands, notably Sicily and Sardinia.[15] Italy shares its borders with France, Switzerland, Austria, Slovenia and two enclaves: Vatican City and San Marino. It', metadata={'date': '20240916', 'parent_id': 'doc345', 'name': 'Italy', 'source': 'https://api.python.langchain.com/', 'published': True, 'lang': 'eng'}),\n",
       "  0.5),\n",
       " (Document(page_content='A vector database, vector store or vector search engine is a database that can store vectors (fixed-length lists of numbers) along with other data items. Vector databases typically implement one or more Approximate Nearest Neighbor (ANN) algorithms,[1][2] so that one can search the database with a query vector to retrieve the closest matching database records.Vectors are mathematical', metadata={'date': '2022-06-01', 'parent_id': 'doc653', 'name': 'Vector Store', 'source': 'https://api.python.langchain.com/', 'published': False, 'lang': 'eng'}),\n",
       "  0.5),\n",
       " (Document(page_content='and two enclaves: Vatican City and San Marino. It is the tenth-largest country in Europe, covering an area of 301,340 km2 (116,350 sq mi),[3] and third-most populous member state of the European Union, with a population of nearly 60 million.[16] Its capital and largest city is Rome; other major urban areas include Milan, Naples, Turin, Florence, and Venice.In antiquity, Italy was home to numerous', metadata={'date': '20240916', 'parent_id': 'doc345', 'name': 'Italy', 'source': 'https://api.python.langchain.com/', 'published': True, 'lang': 'eng'}),\n",
       "  0.4219801)]"
      ]
     },
     "execution_count": 37,
     "metadata": {},
     "output_type": "execute_result"
    }
   ],
   "source": [
    "query = \"what are the country named in our database?\"\n",
    "\n",
    "top_k = 3\n",
    "\n",
    "pipeline_name = \"search_pipeline_keyword_0.5_vector_0.5\"\n",
    "\n",
    "matched_docs = opensearch_vectorstore.similarity_search_with_score(\n",
    "                query=query,\n",
    "                k=top_k,\n",
    "                search_type=\"hybrid_search\",\n",
    "                search_pipeline = pipeline_name,\n",
    "                vector_field=\"vector_field\",\n",
    "                text_field=\"text\",\n",
    "                metadata_field=\"metadata\"\n",
    "            )\n",
    "\n",
    "matched_docs"
   ]
  },
  {
   "cell_type": "markdown",
   "metadata": {},
   "source": [
    "## Hybrid Search along with Metadata Filtering"
   ]
  },
  {
   "cell_type": "markdown",
   "metadata": {},
   "source": [
    "#### Example-1: \n",
    "\n",
    "Retrieve only top-k documents which are not yet published & related to this query: \"what are the country named in our database?\"\n",
    "\n",
    "published == 'False'\n",
    "\n",
    "Weightage: keyword_weight=0.5, vector_weight=0.5,"
   ]
  },
  {
   "cell_type": "code",
   "execution_count": 38,
   "metadata": {},
   "outputs": [
    {
     "data": {
      "text/plain": [
       "<Response [200]>"
      ]
     },
     "execution_count": 38,
     "metadata": {},
     "output_type": "execute_result"
    }
   ],
   "source": [
    "opensearch_vectorstore.create_search_pipelines(\n",
    "    pipeline_name=\"search_pipeline_keyword_0.5_vector_0.5\",\n",
    "    keyword_weight=0.5,\n",
    "    vector_weight=0.5,\n",
    ")"
   ]
  },
  {
   "cell_type": "code",
   "execution_count": 39,
   "metadata": {},
   "outputs": [
    {
     "data": {
      "text/plain": [
       "[(Document(page_content='A vector database, vector store or vector search engine is a database that can store vectors (fixed-length lists of numbers) along with other data items. Vector databases typically implement one or more Approximate Nearest Neighbor (ANN) algorithms,[1][2] so that one can search the database with a query vector to retrieve the closest matching database records.Vectors are mathematical', metadata={'date': '2022-06-01', 'parent_id': 'doc653', 'name': 'Vector Store', 'source': 'https://api.python.langchain.com/', 'published': False, 'lang': 'eng'}),\n",
       "  0.5),\n",
       " (Document(page_content=\"database records.Vectors are mathematical representations of data in a high-dimensional space. In this space, each dimension corresponds to a feature of the data, with the number of dimensions ranging from few hundreds to tens of thousands, depending on the complexity of the data being represented. A vector's position in this space represents its characteristics. Words, phrases, or entire\", metadata={'date': '2022-06-01', 'parent_id': 'doc653', 'name': 'Vector Store', 'source': 'https://api.python.langchain.com/', 'published': False, 'lang': 'eng'}),\n",
       "  0.3464319),\n",
       " (Document(page_content='code generation, analysis, and debugging; Milvus vector database[11] to store and retrieve vector embeddings; Weaviate vector database[12] to cache embedding and data objects; Redis cache database storage; Python RequestsWrapper and other methods for API requests; SQL and NoSQL databases including JSON support; Streamlit, including for logging; text mapping for k-nearest neighbors search; time', metadata={'date': '2024-02-28', 'parent_id': 'doc333', 'name': 'Langchain', 'source': 'https://api.python.langchain.com/', 'published': False, 'lang': 'eng'}),\n",
       "  0.0005)]"
      ]
     },
     "execution_count": 39,
     "metadata": {},
     "output_type": "execute_result"
    }
   ],
   "source": [
    "query = \"what are the country named in our database?\"\n",
    "\n",
    "top_k = 3\n",
    "\n",
    "pipeline_name = \"search_pipeline_keyword_0.5_vector_0.5\"\n",
    "\n",
    "matched_docs = opensearch_vectorstore.similarity_search_with_score(\n",
    "                query=query,\n",
    "                k=top_k,\n",
    "                search_type=\"hybrid_search\",\n",
    "                search_pipeline = pipeline_name,\n",
    "                vector_field=\"vector_field\",\n",
    "                text_field=\"text\",\n",
    "                metadata_field=\"metadata\",\n",
    "                post_filter= {\"bool\": {\"filter\": {\"term\": {\"metadata.published\": False}}}}\n",
    "            )\n",
    "\n",
    "matched_docs"
   ]
  },
  {
   "cell_type": "code",
   "execution_count": 40,
   "metadata": {},
   "outputs": [
    {
     "name": "stdout",
     "output_type": "stream",
     "text": [
      "Content: A vector database, vector store or vector search engine is a database that can store vectors (fixed-length lists of numbers) along with other data items. Vector databases typically implement one or more Approximate Nearest Neighbor (ANN) algorithms,[1][2] so that one can search the database with a query vector to retrieve the closest matching database records.Vectors are mathematical\n",
      "Metadata: {'date': '2022-06-01', 'parent_id': 'doc653', 'name': 'Vector Store', 'source': 'https://api.python.langchain.com/', 'published': False, 'lang': 'eng'}\n",
      "Score: 0.5\n",
      "\n",
      "\n",
      "Content: database records.Vectors are mathematical representations of data in a high-dimensional space. In this space, each dimension corresponds to a feature of the data, with the number of dimensions ranging from few hundreds to tens of thousands, depending on the complexity of the data being represented. A vector's position in this space represents its characteristics. Words, phrases, or entire\n",
      "Metadata: {'date': '2022-06-01', 'parent_id': 'doc653', 'name': 'Vector Store', 'source': 'https://api.python.langchain.com/', 'published': False, 'lang': 'eng'}\n",
      "Score: 0.3464319\n",
      "\n",
      "\n",
      "Content: code generation, analysis, and debugging; Milvus vector database[11] to store and retrieve vector embeddings; Weaviate vector database[12] to cache embedding and data objects; Redis cache database storage; Python RequestsWrapper and other methods for API requests; SQL and NoSQL databases including JSON support; Streamlit, including for logging; text mapping for k-nearest neighbors search; time\n",
      "Metadata: {'date': '2024-02-28', 'parent_id': 'doc333', 'name': 'Langchain', 'source': 'https://api.python.langchain.com/', 'published': False, 'lang': 'eng'}\n",
      "Score: 0.0005\n",
      "\n",
      "\n"
     ]
    }
   ],
   "source": [
    "pretty_print(matched_docs)"
   ]
  },
  {
   "cell_type": "markdown",
   "metadata": {},
   "source": [
    "Same Query but without any Metadata filtering"
   ]
  },
  {
   "cell_type": "code",
   "execution_count": 42,
   "metadata": {},
   "outputs": [
    {
     "name": "stdout",
     "output_type": "stream",
     "text": [
      "Content: Italy,[a] officially the Italian Republic,[b] is a country in Southern[12] and Western[13][c] Europe. It is located on a peninsula that extends into the middle of the Mediterranean Sea, with the Alps on its northern land border, as well as islands, notably Sicily and Sardinia.[15] Italy shares its borders with France, Switzerland, Austria, Slovenia and two enclaves: Vatican City and San Marino. It\n",
      "Metadata: {'date': '20240916', 'parent_id': 'doc345', 'name': 'Italy', 'source': 'https://api.python.langchain.com/', 'published': True, 'lang': 'eng'}\n",
      "Score: 0.5\n",
      "\n",
      "\n",
      "Content: A vector database, vector store or vector search engine is a database that can store vectors (fixed-length lists of numbers) along with other data items. Vector databases typically implement one or more Approximate Nearest Neighbor (ANN) algorithms,[1][2] so that one can search the database with a query vector to retrieve the closest matching database records.Vectors are mathematical\n",
      "Metadata: {'date': '2022-06-01', 'parent_id': 'doc653', 'name': 'Vector Store', 'source': 'https://api.python.langchain.com/', 'published': False, 'lang': 'eng'}\n",
      "Score: 0.5\n",
      "\n",
      "\n",
      "Content: and two enclaves: Vatican City and San Marino. It is the tenth-largest country in Europe, covering an area of 301,340 km2 (116,350 sq mi),[3] and third-most populous member state of the European Union, with a population of nearly 60 million.[16] Its capital and largest city is Rome; other major urban areas include Milan, Naples, Turin, Florence, and Venice.In antiquity, Italy was home to numerous\n",
      "Metadata: {'date': '20240916', 'parent_id': 'doc345', 'name': 'Italy', 'source': 'https://api.python.langchain.com/', 'published': True, 'lang': 'eng'}\n",
      "Score: 0.4219801\n",
      "\n",
      "\n"
     ]
    }
   ],
   "source": [
    "query = \"what are the country named in our database?\"\n",
    "\n",
    "top_k = 3\n",
    "\n",
    "pipeline_name = \"search_pipeline_keyword_0.5_vector_0.5\"\n",
    "\n",
    "matched_docs = opensearch_vectorstore.similarity_search_with_score(\n",
    "                query=query,\n",
    "                k=top_k,\n",
    "                search_type=\"hybrid_search\",\n",
    "                search_pipeline = pipeline_name,\n",
    "                vector_field=\"vector_field\",\n",
    "                text_field=\"text\",\n",
    "                metadata_field=\"metadata\"\n",
    "            )\n",
    "\n",
    "pretty_print(matched_docs)"
   ]
  },
  {
   "cell_type": "markdown",
   "metadata": {},
   "source": [
    "#### Example-2: \n",
    "\n",
    "Retrieve only top-k documents which are in italian language & related to this query: \"what are the country named in our database?\"\n",
    "\n",
    "lang == 'ita'\n",
    "\n",
    "Weightage: keyword_weight=0.5, vector_weight=0.5,"
   ]
  },
  {
   "cell_type": "code",
   "execution_count": 48,
   "metadata": {},
   "outputs": [
    {
     "name": "stdout",
     "output_type": "stream",
     "text": [
      "Content: software continui. La smentita fa seguito alla reazione negativa sui commenti fatti dal CEO Hanneke Faber, che aveva accennato alla possibilità durante un'intervista podcast con The Verge.In risposta a questi rapporti, la responsabile delle comunicazioni di Logitech, Nicole Kenyon, ha chiarito: Non ci sono piani per un mouse in abbonamento. Questa dichiarazione è stata rilasciata a diversi media\n",
      "Metadata: {'date': '2023-07-28', 'parent_id': 'doc513', 'name': 'L’ultimo aggiornamento', 'section': 'news', 'source': 'https://dailyhunt.com', 'published': True, 'lang': 'ita'}\n",
      "Score: 1.0\n",
      "\n",
      "\n",
      "Content: La smentita fa seguito alla reazione negativa sui commenti fatti dal CEO Hanneke Faber, che aveva accennato alla possibilità durante un'intervista podcast con The Verge.In risposta a questi rapporti, la responsabile delle comunicazioni di Logitech, Nicole Kenyon, ha chiarito: Non ci sono piani per un mouse in abbonamento. Questa dichiarazione è stata rilasciata a diversi media sulla scia delle\n",
      "Metadata: {'date': '2018-05-19', 'parent_id': 'doc633', 'name': 'più pesante', 'section': 'news', 'source': 'https://dailyhunt.com', 'published': True, 'lang': 'ita'}\n",
      "Score: 0.5\n",
      "\n",
      "\n"
     ]
    }
   ],
   "source": [
    "query = \"what are the latest news?\"\n",
    "\n",
    "top_k = 3\n",
    "\n",
    "pipeline_name = \"search_pipeline_keyword_0.5_vector_0.5\"\n",
    "\n",
    "matched_docs = opensearch_vectorstore.similarity_search_with_score(\n",
    "                query=query,\n",
    "                k=top_k,\n",
    "                search_type=\"hybrid_search\",\n",
    "                search_pipeline = pipeline_name,\n",
    "                vector_field=\"vector_field\",\n",
    "                text_field=\"text\",\n",
    "                metadata_field=\"metadata\",\n",
    "                post_filter= {\"bool\": {\"filter\": {\"term\": {\"metadata.lang\": \"ita\"}}}}\n",
    "\n",
    "            )\n",
    "\n",
    "\n",
    "pretty_print(matched_docs)"
   ]
  },
  {
   "cell_type": "markdown",
   "metadata": {},
   "source": [
    "#### Example-3\n",
    "\n",
    "Retrieve only top-k documents which are coming from 'sports' section & related to this query: \"what are the country named in our database?\n",
    "\n",
    "section == sports\n",
    "\n",
    "Weightage: keyword_weight=0.5, vector_weight=0.5"
   ]
  },
  {
   "cell_type": "code",
   "execution_count": 49,
   "metadata": {},
   "outputs": [
    {
     "name": "stdout",
     "output_type": "stream",
     "text": [
      "Content: place in the morning of the first competition day. On the second competition day, wrestlers who have qualified for the finals and repechage are weighed in again.It is with regret that the Indian contingent shares news of the disqualification of Vinesh Phogat from the women’s wrestling 50kg class,” the Indian Olympic Association (IOA) said in a statement. “Despite the best efforts by the team\n",
      "Metadata: {'date': '2024-08-07', 'parent_id': 'doc680', 'name': 'Why Vinesh Phogat was disqualified from Paris 2024 Olympics wrestling', 'section': 'sports', 'source': 'https://newstoday.com', 'published': True, 'lang': 'eng'}\n",
      "Score: 0.5005\n",
      "\n",
      "\n",
      "Content: statement. “Despite the best efforts by the team through the night, she weighed in a few grams over 50kg this morning.No further comments will be made by the contingent at this time. The Indian team requests you respect Vinesh’s privacy. It would like to focus on the competitions on hand.Vinesh Phogat was eligible for competition on the opening day but weighed just over 50kg on Thursday\n",
      "Metadata: {'date': '2024-08-07', 'parent_id': 'doc680', 'name': 'Why Vinesh Phogat was disqualified from Paris 2024 Olympics wrestling', 'section': 'sports', 'source': 'https://newstoday.com', 'published': True, 'lang': 'eng'}\n",
      "Score: 0.5\n",
      "\n",
      "\n",
      "Content: ha affermato in una nota l'Associazione olimpica indiana (IOA). “Nonostante i migliori sforzi compiuti dalla squadra durante la notte, stamattina pesava pochi grammi più di 50 kg.Non verranno rilasciati ulteriori commenti da parte del contingente in questo momento. Il team indiano ti chiede di rispettare la privacy di Vinesh. Vorrebbe concentrarsi sulle competizioni in corso.Vinesh Phogat poteva\n",
      "Metadata: {'date': '2024-08-07', 'parent_id': 'doc754', 'name': 'Perché Vinesh Phogat è stato squalificato dal wrestling delle Olimpiadi di Parigi 2024', 'section': 'sports', 'source': 'https://newstoday.com', 'published': True, 'lang': 'ita'}\n",
      "Score: 0.08435757\n",
      "\n",
      "\n"
     ]
    }
   ],
   "source": [
    "query = \"what are the latest sports news today?\"\n",
    "\n",
    "top_k = 3\n",
    "\n",
    "pipeline_name = \"search_pipeline_keyword_0.5_vector_0.5\"\n",
    "\n",
    "matched_docs = opensearch_vectorstore.similarity_search_with_score(\n",
    "                query=query,\n",
    "                k=top_k,\n",
    "                search_type=\"hybrid_search\",\n",
    "                search_pipeline = pipeline_name,\n",
    "                vector_field=\"vector_field\",\n",
    "                text_field=\"text\",\n",
    "                metadata_field=\"metadata\",\n",
    "                post_filter= {\"bool\": {\"filter\": {\"term\": {\"metadata.section\": \"sports\"}}}}\n",
    "            )\n",
    "\n",
    "\n",
    "pretty_print(matched_docs)"
   ]
  },
  {
   "cell_type": "markdown",
   "metadata": {},
   "source": [
    "#### Example-4\n",
    "\n",
    "Retrieve only top-k documents related to this query: \"what are the country named in our database? \n",
    "\n",
    "& (post filter)\n",
    "\n",
    "which are published in between these dates from '2018-01-01' to '2021-01-01'\n",
    "\n",
    "**Condition:** range: greater than: 2018-01-01 & less than: 2021-01-01\n",
    "\n",
    "Weightage: keyword_weight=0.5, vector_weight=0.5"
   ]
  },
  {
   "cell_type": "code",
   "execution_count": 50,
   "metadata": {},
   "outputs": [
    {
     "name": "stdout",
     "output_type": "stream",
     "text": [
      "Content: of Helen telling him they need to go home. He breaks into a nearby animal clinic, treats his wounds, and adopts a pit bull puppy scheduled to be euthanized before beginning to walk home.\n",
      "Metadata: {'date': '2020-09-16', 'parent_id': 'doc123', 'name': 'John wick: Chapter 1', 'source': 'https://johnwick.com/', 'published': True, 'lang': 'eng'}\n",
      "Score: 0.5\n",
      "\n",
      "\n",
      "Content: margins of the Indus river basin 9,000 years ago, evolving gradually into the Indus Valley Civilisation of the third millennium BCE.[32] By 1200 BCE, an archaic form of Sanskrit, an Indo-European language, had diffused into India from the northwest.[33][34] Its evidence today is found in the hymns of the Rigveda. Preserved by an oral tradition that was resolutely vigilant, the Rigveda records the\n",
      "Metadata: {'date': '2018-05-19', 'parent_id': 'doc633', 'name': 'India', 'source': 'https://india.com/', 'published': True, 'lang': 'eng'}\n",
      "Score: 0.5\n",
      "\n",
      "\n",
      "Content: home, assault him, kill the puppy, and steal the car. Iosef takes the Mustang to a chop shop to remove its identifying details, but the shop owner, Aurelio, recognizes it and refuses service. Aurelio informs John that Iosef is the son of Viggo Tarasov, the boss of New York City's Russian mafia.Upon learning of his son's actions, Viggo berates Iosef for incurring John's wrath. He reveals John was\n",
      "Metadata: {'date': '2020-09-16', 'parent_id': 'doc123', 'name': 'John wick: Chapter 1', 'source': 'https://johnwick.com/', 'published': True, 'lang': 'eng'}\n",
      "Score: 0.0014227818\n",
      "\n",
      "\n"
     ]
    }
   ],
   "source": [
    "\n",
    "\n",
    "query = \"what are the latest sports news today?\"\n",
    "\n",
    "top_k = 3\n",
    "\n",
    "pipeline_name = \"search_pipeline_keyword_0.5_vector_0.5\"\n",
    "\n",
    "matched_docs = opensearch_vectorstore.similarity_search_with_score(\n",
    "                query=query,\n",
    "                k=top_k,\n",
    "                search_type=\"hybrid_search\",\n",
    "                search_pipeline = pipeline_name,\n",
    "                vector_field=\"vector_field\",\n",
    "                text_field=\"text\",\n",
    "                metadata_field=\"metadata\",\n",
    "                post_filter= {\"bool\": \n",
    "                      {\"filter\": \n",
    "                       {\"range\": {\"metadata.date\": \n",
    "                                  {\"gte\": '2018-01-01', \"lte\": '2021-01-01'}}}}}\n",
    "            )\n",
    "\n",
    "\n",
    "pretty_print(matched_docs)"
   ]
  },
  {
   "cell_type": "markdown",
   "metadata": {},
   "source": [
    "#### Example-5 \n",
    "\n",
    "Combining muliple metadata filtering"
   ]
  },
  {
   "cell_type": "code",
   "execution_count": 51,
   "metadata": {},
   "outputs": [
    {
     "name": "stdout",
     "output_type": "stream",
     "text": [
      "Content: of Helen telling him they need to go home. He breaks into a nearby animal clinic, treats his wounds, and adopts a pit bull puppy scheduled to be euthanized before beginning to walk home.\n",
      "Metadata: {'date': '2020-09-16', 'parent_id': 'doc123', 'name': 'John wick: Chapter 1', 'source': 'https://johnwick.com/', 'published': True, 'lang': 'eng'}\n",
      "Score: 0.5\n",
      "\n",
      "\n",
      "Content: margins of the Indus river basin 9,000 years ago, evolving gradually into the Indus Valley Civilisation of the third millennium BCE.[32] By 1200 BCE, an archaic form of Sanskrit, an Indo-European language, had diffused into India from the northwest.[33][34] Its evidence today is found in the hymns of the Rigveda. Preserved by an oral tradition that was resolutely vigilant, the Rigveda records the\n",
      "Metadata: {'date': '2018-05-19', 'parent_id': 'doc633', 'name': 'India', 'source': 'https://india.com/', 'published': True, 'lang': 'eng'}\n",
      "Score: 0.5\n",
      "\n",
      "\n",
      "Content: home, assault him, kill the puppy, and steal the car. Iosef takes the Mustang to a chop shop to remove its identifying details, but the shop owner, Aurelio, recognizes it and refuses service. Aurelio informs John that Iosef is the son of Viggo Tarasov, the boss of New York City's Russian mafia.Upon learning of his son's actions, Viggo berates Iosef for incurring John's wrath. He reveals John was\n",
      "Metadata: {'date': '2020-09-16', 'parent_id': 'doc123', 'name': 'John wick: Chapter 1', 'source': 'https://johnwick.com/', 'published': True, 'lang': 'eng'}\n",
      "Score: 0.0014227818\n",
      "\n",
      "\n"
     ]
    }
   ],
   "source": [
    "\n",
    "\n",
    "query = \"what are the latest sports news today?\"\n",
    "\n",
    "top_k = 3\n",
    "\n",
    "pipeline_name = \"search_pipeline_keyword_0.5_vector_0.5\"\n",
    "\n",
    "matched_docs = opensearch_vectorstore.similarity_search_with_score(\n",
    "                query=query,\n",
    "                k=top_k,\n",
    "                search_type=\"hybrid_search\",\n",
    "                search_pipeline = pipeline_name,\n",
    "                vector_field=\"vector_field\",\n",
    "                text_field=\"text\",\n",
    "                metadata_field=\"metadata\",\n",
    "                post_filter= {\"bool\": \n",
    "                        {\"filter\": [\n",
    "                        {\"range\": {\"metadata.date\": {\"gte\": '2018-01-01', \"lte\": '2021-01-01'}}},\n",
    "                        {\"term\": {\"metadata.published\": True}}\n",
    "                        ]\n",
    "                        }}\n",
    "                )\n",
    "\n",
    "pretty_print(matched_docs)"
   ]
  }
 ],
 "metadata": {
  "kernelspec": {
   "display_name": "llm_apps",
   "language": "python",
   "name": "python3"
  },
  "language_info": {
   "codemirror_mode": {
    "name": "ipython",
    "version": 3
   },
   "file_extension": ".py",
   "mimetype": "text/x-python",
   "name": "python",
   "nbconvert_exporter": "python",
   "pygments_lexer": "ipython3",
   "version": "3.10.0"
  }
 },
 "nbformat": 4,
 "nbformat_minor": 2
}
