{
 "cells": [
  {
   "cell_type": "code",
   "execution_count": 1,
   "metadata": {},
   "outputs": [],
   "source": [
    "from opensearch_vector_search import OpenSearchVectorSearch\n",
    "from langchain_openai import OpenAIEmbeddings\n",
    "import os"
   ]
  },
  {
   "cell_type": "markdown",
   "metadata": {},
   "source": [
    "Loading all environment variables"
   ]
  },
  {
   "cell_type": "code",
   "execution_count": null,
   "metadata": {},
   "outputs": [],
   "source": [
    "from dotenv import load_dotenv\n",
    "\n",
    "load_dotenv()"
   ]
  },
  {
   "cell_type": "markdown",
   "metadata": {},
   "source": [
    "#### Embedding model "
   ]
  },
  {
   "cell_type": "code",
   "execution_count": 2,
   "metadata": {},
   "outputs": [],
   "source": [
    "def get_embedding_model(model_name: str):\n",
    "    return OpenAIEmbeddings(\n",
    "        model=model_name\n",
    "    )\n",
    "\n",
    "embedding_model = get_embedding_model(model_name=\"text-embedding-ada-002\")"
   ]
  },
  {
   "cell_type": "markdown",
   "metadata": {},
   "source": [
    "#### Instantiate OpenSearchVectorSearch vector store"
   ]
  },
  {
   "cell_type": "code",
   "execution_count": 3,
   "metadata": {},
   "outputs": [],
   "source": [
    "opensearch_vectorstore = OpenSearchVectorSearch(\n",
    "    index_name=os.getenv(\"INDEX_NAME\"),\n",
    "    embedding_function=embedding_model,\n",
    "    opensearch_url=os.getenv(\"OPENSEARCH_URL\"),\n",
    "    http_auth= (os.getenv(\"OPENSEARCH_USERNAME\"),os.getenv(\"OPENSEARCH_PASSWORD\")),\n",
    "    use_ssl=False,\n",
    "    verify_certs=False,\n",
    "    ssl_assert_hostname=False,\n",
    "    ssl_show_warn=False\n",
    ")"
   ]
  },
  {
   "cell_type": "markdown",
   "metadata": {},
   "source": [
    "### Test-1: Testing Hybrid Search and Configuring of Search Pipeline"
   ]
  },
  {
   "cell_type": "markdown",
   "metadata": {},
   "source": [
    "#### 1.1 Testing Configuration of Search Pipeline "
   ]
  },
  {
   "cell_type": "code",
   "execution_count": 4,
   "metadata": {},
   "outputs": [
    {
     "data": {
      "text/plain": [
       "{'acknowledged': True}"
      ]
     },
     "execution_count": 4,
     "metadata": {},
     "output_type": "execute_result"
    }
   ],
   "source": [
    "opensearch_vectorstore.configure_search_pipelines(\n",
    "    pipeline_name=\"search_pipeline_keyword_0.3_vector_0.7\",\n",
    "    keyword_weight=0.3,\n",
    "    vector_weight=0.7,\n",
    ")"
   ]
  },
  {
   "cell_type": "markdown",
   "metadata": {},
   "source": [
    "#### 1.2 Testing similarity_search() with Search_type = \"Hybrid Search\""
   ]
  },
  {
   "cell_type": "code",
   "execution_count": null,
   "metadata": {},
   "outputs": [
    {
     "data": {
      "text/plain": [
       "[Document(page_content='Italy,[a] officially the Italian Republic,[b] is a country in Southern[12] and Western[13][c] Europe. It is located on a peninsula that extends into the middle of the Mediterranean Sea, with the Alps on its northern land border, as well as islands, notably Sicily and Sardinia.[15] Italy shares its borders with France, Switzerland, Austria, Slovenia and two enclaves: Vatican City and San Marino. It', metadata={'date': '20240916', 'parent_id': 'doc345', 'name': 'Italy', 'source': 'https://api.python.langchain.com/', 'published': True, 'lang': 'eng'}),\n",
       " Document(page_content='and two enclaves: Vatican City and San Marino. It is the tenth-largest country in Europe, covering an area of 301,340 km2 (116,350 sq mi),[3] and third-most populous member state of the European Union, with a population of nearly 60 million.[16] Its capital and largest city is Rome; other major urban areas include Milan, Naples, Turin, Florence, and Venice.In antiquity, Italy was home to numerous', metadata={'date': '20240916', 'parent_id': 'doc345', 'name': 'Italy', 'source': 'https://api.python.langchain.com/', 'published': True, 'lang': 'eng'}),\n",
       " Document(page_content='A vector database, vector store or vector search engine is a database that can store vectors (fixed-length lists of numbers) along with other data items. Vector databases typically implement one or more Approximate Nearest Neighbor (ANN) algorithms,[1][2] so that one can search the database with a query vector to retrieve the closest matching database records.Vectors are mathematical', metadata={'date': '2022-06-01', 'parent_id': 'doc653', 'name': 'Vector Store', 'source': 'https://api.python.langchain.com/', 'published': False, 'lang': 'eng'})]"
      ]
     },
     "metadata": {},
     "output_type": "display_data"
    }
   ],
   "source": [
    "query = \"what are the country named in our database?\"\n",
    "\n",
    "top_k = 3\n",
    "\n",
    "pipeline_name = \"search_pipeline_keyword_0.3_vector_0.7\"\n",
    "\n",
    "matched_docs = opensearch_vectorstore.similarity_search(\n",
    "                query=query,\n",
    "                k=top_k,\n",
    "                search_type=\"hybrid_search\",\n",
    "                search_pipeline = pipeline_name,\n",
    "                vector_field=\"vector_field\",\n",
    "                text_field=\"text\",\n",
    "                metadata_field=\"metadata\"\n",
    "            )\n",
    "\n",
    "matched_docs"
   ]
  },
  {
   "cell_type": "markdown",
   "metadata": {},
   "source": [
    "#### 1.3 Testing similarity_search_with_score() with Search_type = \"Hybrid Search\""
   ]
  },
  {
   "cell_type": "code",
   "execution_count": 5,
   "metadata": {},
   "outputs": [
    {
     "data": {
      "text/plain": [
       "[(Document(page_content='Italy,[a] officially the Italian Republic,[b] is a country in Southern[12] and Western[13][c] Europe. It is located on a peninsula that extends into the middle of the Mediterranean Sea, with the Alps on its northern land border, as well as islands, notably Sicily and Sardinia.[15] Italy shares its borders with France, Switzerland, Austria, Slovenia and two enclaves: Vatican City and San Marino. It', metadata={'date': '20240916', 'parent_id': 'doc345', 'name': 'Italy', 'source': 'https://api.python.langchain.com/', 'published': True, 'lang': 'eng'}),\n",
       "  0.7),\n",
       " (Document(page_content='and two enclaves: Vatican City and San Marino. It is the tenth-largest country in Europe, covering an area of 301,340 km2 (116,350 sq mi),[3] and third-most populous member state of the European Union, with a population of nearly 60 million.[16] Its capital and largest city is Rome; other major urban areas include Milan, Naples, Turin, Florence, and Venice.In antiquity, Italy was home to numerous', metadata={'date': '20240916', 'parent_id': 'doc345', 'name': 'Italy', 'source': 'https://api.python.langchain.com/', 'published': True, 'lang': 'eng'}),\n",
       "  0.59077215),\n",
       " (Document(page_content='A vector database, vector store or vector search engine is a database that can store vectors (fixed-length lists of numbers) along with other data items. Vector databases typically implement one or more Approximate Nearest Neighbor (ANN) algorithms,[1][2] so that one can search the database with a query vector to retrieve the closest matching database records.Vectors are mathematical', metadata={'date': '2022-06-01', 'parent_id': 'doc653', 'name': 'Vector Store', 'source': 'https://api.python.langchain.com/', 'published': False, 'lang': 'eng'}),\n",
       "  0.3)]"
      ]
     },
     "execution_count": 5,
     "metadata": {},
     "output_type": "execute_result"
    }
   ],
   "source": [
    "query = \"what are the country named in our database?\"\n",
    "\n",
    "top_k = 3\n",
    "\n",
    "pipeline_name = \"search_pipeline_keyword_0.3_vector_0.7\"\n",
    "\n",
    "matched_docs = opensearch_vectorstore.similarity_search_with_score(\n",
    "                query=query,\n",
    "                k=top_k,\n",
    "                search_type=\"hybrid_search\",\n",
    "                search_pipeline = pipeline_name,\n",
    "                vector_field=\"vector_field\",\n",
    "                text_field=\"text\",\n",
    "                metadata_field=\"metadata\"\n",
    "            )\n",
    "\n",
    "matched_docs"
   ]
  },
  {
   "cell_type": "markdown",
   "metadata": {},
   "source": [
    "#### 1.4 Testing similarity_search_with_score() & \"Hybrid Search\" with filtering"
   ]
  },
  {
   "cell_type": "code",
   "execution_count": 9,
   "metadata": {},
   "outputs": [
    {
     "data": {
      "text/plain": [
       "[(Document(page_content='A vector database, vector store or vector search engine is a database that can store vectors (fixed-length lists of numbers) along with other data items. Vector databases typically implement one or more Approximate Nearest Neighbor (ANN) algorithms,[1][2] so that one can search the database with a query vector to retrieve the closest matching database records.Vectors are mathematical', metadata={'date': '2022-06-01', 'parent_id': 'doc653', 'name': 'Vector Store', 'source': 'https://api.python.langchain.com/', 'published': False, 'lang': 'eng'}),\n",
       "  0.3),\n",
       " (Document(page_content=\"database records.Vectors are mathematical representations of data in a high-dimensional space. In this space, each dimension corresponds to a feature of the data, with the number of dimensions ranging from few hundreds to tens of thousands, depending on the complexity of the data being represented. A vector's position in this space represents its characteristics. Words, phrases, or entire\", metadata={'date': '2022-06-01', 'parent_id': 'doc653', 'name': 'Vector Store', 'source': 'https://api.python.langchain.com/', 'published': False, 'lang': 'eng'}),\n",
       "  0.20785916),\n",
       " (Document(page_content='code generation, analysis, and debugging; Milvus vector database[11] to store and retrieve vector embeddings; Weaviate vector database[12] to cache embedding and data objects; Redis cache database storage; Python RequestsWrapper and other methods for API requests; SQL and NoSQL databases including JSON support; Streamlit, including for logging; text mapping for k-nearest neighbors search; time', metadata={'date': '2024-02-28', 'parent_id': 'doc333', 'name': 'Langchain', 'source': 'https://api.python.langchain.com/', 'published': False, 'lang': 'eng'}),\n",
       "  0.0003)]"
      ]
     },
     "execution_count": 9,
     "metadata": {},
     "output_type": "execute_result"
    }
   ],
   "source": [
    "query = \"what are the country named in our database?\"\n",
    "\n",
    "top_k = 3\n",
    "\n",
    "pipeline_name = \"search_pipeline_keyword_0.3_vector_0.7\"\n",
    "\n",
    "matched_docs = opensearch_vectorstore.similarity_search_with_score(\n",
    "                query=query,\n",
    "                k=top_k,\n",
    "                search_type=\"hybrid_search\",\n",
    "                search_pipeline = pipeline_name,\n",
    "                vector_field=\"vector_field\",\n",
    "                text_field=\"text\",\n",
    "                metadata_field=\"metadata\",\n",
    "                post_filter= {\"bool\": {\"filter\": {\"term\": {\"metadata.published\": False}}}}\n",
    "            )\n",
    "\n",
    "matched_docs"
   ]
  },
  {
   "cell_type": "markdown",
   "metadata": {},
   "source": [
    "### Test-2: Testing Hybrid Search and Configuring of Search Pipeline"
   ]
  },
  {
   "cell_type": "markdown",
   "metadata": {},
   "source": [
    "#### 2.1 Testing Similarity_Search() with Search_type = \"Approximate Search\" (Default)"
   ]
  },
  {
   "cell_type": "code",
   "execution_count": 6,
   "metadata": {},
   "outputs": [
    {
     "data": {
      "text/plain": [
       "[Document(page_content='Italy,[a] officially the Italian Republic,[b] is a country in Southern[12] and Western[13][c] Europe. It is located on a peninsula that extends into the middle of the Mediterranean Sea, with the Alps on its northern land border, as well as islands, notably Sicily and Sardinia.[15] Italy shares its borders with France, Switzerland, Austria, Slovenia and two enclaves: Vatican City and San Marino. It', metadata={'name': 'Italy', 'source': 'https://api.python.langchain.com/', 'date': '20240916', 'lang': 'eng', 'published': True, 'parent_id': 'doc345'}),\n",
       " Document(page_content='and two enclaves: Vatican City and San Marino. It is the tenth-largest country in Europe, covering an area of 301,340 km2 (116,350 sq mi),[3] and third-most populous member state of the European Union, with a population of nearly 60 million.[16] Its capital and largest city is Rome; other major urban areas include Milan, Naples, Turin, Florence, and Venice.In antiquity, Italy was home to numerous', metadata={'name': 'Italy', 'source': 'https://api.python.langchain.com/', 'date': '20240916', 'lang': 'eng', 'published': True, 'parent_id': 'doc345'}),\n",
       " Document(page_content='in semifinale il campione in carica dei Giochi Panamericani Yusneylis Guzman di Cuba.', metadata={'name': 'Perché Vinesh Phogat è stato squalificato dal wrestling delle Olimpiadi di Parigi 2024', 'source': 'https://newstoday.com', 'date': '2024-08-07', 'lang': 'ita', 'published': True, 'section': 'sports', 'parent_id': 'doc754'})]"
      ]
     },
     "execution_count": 6,
     "metadata": {},
     "output_type": "execute_result"
    }
   ],
   "source": [
    "query = \"what are the country named in our database?\"\n",
    "\n",
    "top_k = 3\n",
    "\n",
    "matched_docs = opensearch_vectorstore.similarity_search(\n",
    "                query=query,\n",
    "                k=top_k,\n",
    "                search_type=\"approximate_search\",\n",
    "                search_pipeline = pipeline_name,\n",
    "                vector_field=\"vector_field\",\n",
    "                text_field=\"text\",\n",
    "                metadata_field=\"metadata\"\n",
    "            )\n",
    "\n",
    "matched_docs"
   ]
  },
  {
   "cell_type": "markdown",
   "metadata": {},
   "source": [
    "#### 2.2 Testing similarity_search_with_score() with Search_type = \"Approximate Search\" (Default)"
   ]
  },
  {
   "cell_type": "code",
   "execution_count": 7,
   "metadata": {},
   "outputs": [
    {
     "data": {
      "text/plain": [
       "[(Document(page_content='Italy,[a] officially the Italian Republic,[b] is a country in Southern[12] and Western[13][c] Europe. It is located on a peninsula that extends into the middle of the Mediterranean Sea, with the Alps on its northern land border, as well as islands, notably Sicily and Sardinia.[15] Italy shares its borders with France, Switzerland, Austria, Slovenia and two enclaves: Vatican City and San Marino. It', metadata={'name': 'Italy', 'source': 'https://api.python.langchain.com/', 'date': '20240916', 'lang': 'eng', 'published': True, 'parent_id': 'doc345'}),\n",
       "  1.7577173),\n",
       " (Document(page_content='and two enclaves: Vatican City and San Marino. It is the tenth-largest country in Europe, covering an area of 301,340 km2 (116,350 sq mi),[3] and third-most populous member state of the European Union, with a population of nearly 60 million.[16] Its capital and largest city is Rome; other major urban areas include Milan, Naples, Turin, Florence, and Venice.In antiquity, Italy was home to numerous', metadata={'name': 'Italy', 'source': 'https://api.python.langchain.com/', 'date': '20240916', 'lang': 'eng', 'published': True, 'parent_id': 'doc345'}),\n",
       "  1.7530031),\n",
       " (Document(page_content='in semifinale il campione in carica dei Giochi Panamericani Yusneylis Guzman di Cuba.', metadata={'name': 'Perché Vinesh Phogat è stato squalificato dal wrestling delle Olimpiadi di Parigi 2024', 'source': 'https://newstoday.com', 'date': '2024-08-07', 'lang': 'ita', 'published': True, 'section': 'sports', 'parent_id': 'doc754'}),\n",
       "  1.7275062)]"
      ]
     },
     "execution_count": 7,
     "metadata": {},
     "output_type": "execute_result"
    }
   ],
   "source": [
    "query = \"what are the country named in our database?\"\n",
    "\n",
    "top_k = 3\n",
    "\n",
    "matched_docs = opensearch_vectorstore.similarity_search_with_score(\n",
    "                query=query,\n",
    "                k=top_k,\n",
    "                search_type=\"approximate_search\",\n",
    "                search_pipeline = pipeline_name,\n",
    "                vector_field=\"vector_field\",\n",
    "                text_field=\"text\",\n",
    "                metadata_field=\"metadata\"\n",
    "            )\n",
    "\n",
    "matched_docs"
   ]
  },
  {
   "cell_type": "code",
   "execution_count": null,
   "metadata": {},
   "outputs": [],
   "source": []
  }
 ],
 "metadata": {
  "kernelspec": {
   "display_name": "llm_apps",
   "language": "python",
   "name": "python3"
  },
  "language_info": {
   "codemirror_mode": {
    "name": "ipython",
    "version": 3
   },
   "file_extension": ".py",
   "mimetype": "text/x-python",
   "name": "python",
   "nbconvert_exporter": "python",
   "pygments_lexer": "ipython3",
   "version": "3.10.0"
  }
 },
 "nbformat": 4,
 "nbformat_minor": 2
}
